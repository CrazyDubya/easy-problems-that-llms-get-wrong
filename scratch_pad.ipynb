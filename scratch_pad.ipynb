{
 "cells": [
  {
   "cell_type": "code",
   "execution_count": 197,
   "metadata": {},
   "outputs": [
    {
     "name": "stdout",
     "output_type": "stream",
     "text": [
      "The autoreload extension is already loaded. To reload it, use:\n",
      "  %reload_ext autoreload\n"
     ]
    }
   ],
   "source": [
    "%load_ext autoreload\n",
    "%autoreload 2\n",
    "\n",
    "from llm_service import litellm_service, message_parse, custom_llm_service\n",
    "from auto_eval import extract_valid_json\n",
    "import random"
   ]
  },
  {
   "cell_type": "code",
   "execution_count": 198,
   "metadata": {},
   "outputs": [
    {
     "name": "stdout",
     "output_type": "stream",
     "text": [
      "QUESTION\n",
      "I walk to my friend's house, averaging 3mph. How fast would I have to run back to double my average speed for the entire trip?\n",
      "\n",
      "ANSWERS\n",
      "A. 6mph\n",
      "B. Infinitely fast\n",
      "C. 9mph\n",
      "D. 12mph\n",
      "\n",
      "Provide an explanation for your thinking and then select a single choice from ANSWERS that answer the QUESTION. Return in JSON format, for example:\n",
      "{\"ANSWER\": \"D\"}\n",
      "\n",
      "-------------------\n",
      "\n",
      "Correct answer: B\n"
     ]
    }
   ],
   "source": [
    "multi = {\n",
    "\n",
    "        \"index\": 30,\n",
    "        \"category\": \"Popular science\",\n",
    "        \"question\": \"I walk to my friend's house, averaging 3mph. How fast would I have to run back to double my average speed for the entire trip?\",\n",
    "        \"human_answer\": \"Instantaneously fast, it is mathematically impossible.\",\n",
    "        \"correct_answer\": \"Infinitely fast\",\n",
    "        \"multiple_choice\": [\n",
    "            \"Infinitely fast\",\n",
    "            \"6mph\",\n",
    "            \"9mph\",\n",
    "            \"12mph\"\n",
    "        ]\n",
    "        \n",
    "}\n",
    "\n",
    "random.shuffle(multi[\"multiple_choice\"])\n",
    "letters = ['A', 'B', 'C', 'D']\n",
    "correct_answer_idx = multi[\"multiple_choice\"].index(multi[\"correct_answer\"])\n",
    "correct_letter = letters[correct_answer_idx]\n",
    "answers = '\\n'.join([f'{letter}. {question}' for letter, question \n",
    "                     in zip(letters, multi[\"multiple_choice\"])])\n",
    "random_letter = random.choice(letters)\n",
    "\n",
    "prompt = f\"\"\"QUESTION\n",
    "{multi[\"question\"]}\n",
    "\n",
    "ANSWERS\n",
    "{answers}\n",
    "\n",
    "Provide an explanation for your thinking and then select a single choice from ANSWERS that answer the QUESTION. Return in JSON format, for example:\n",
    "{{\"ANSWER\": \"{random_letter}\"}}\n",
    "\"\"\"\n",
    "print(prompt)\n",
    "print('-------------------\\n')\n",
    "print(f\"Correct answer: {correct_letter}\")"
   ]
  },
  {
   "cell_type": "code",
   "execution_count": 200,
   "metadata": {},
   "outputs": [
    {
     "name": "stdout",
     "output_type": "stream",
     "text": [
      "```json\n",
      "{\n",
      " \"ANSWER\": \"B\",\n",
      " \"Explanation\": \"Here's why:  \\n\\n* **Average Speed Isn't Just the Mean:** Average speed is calculated as total distance divided by total time. It's not simply the average of the two speeds. \\n* **The Impact of Time:**  Since you're traveling the same distance, to double your average speed, you would need to halve the total time. However, you've already spent a certain amount of time walking to your friend's house. \\n* **Impossible to Make Up:** No matter how fast you run back, you can't make up for the time already spent walking. To achieve double the average speed, you'd need to return in zero time, which is impossible. \\n\\nTherefore, you would have to run back infinitely fast, which is not practically achievable.\"\n",
      "}\n",
      "``` \n",
      "\n",
      "------ json output -------\n",
      "{'ANSWER': 'B', 'Explanation': \"Here's why:  \\n\\n* **Average Speed Isn't Just the Mean:** Average speed is calculated as total distance divided by total time. It's not simply the average of the two speeds. \\n* **The Impact of Time:**  Since you're traveling the same distance, to double your average speed, you would need to halve the total time. However, you've already spent a certain amount of time walking to your friend's house. \\n* **Impossible to Make Up:** No matter how fast you run back, you can't make up for the time already spent walking. To achieve double the average speed, you'd need to return in zero time, which is impossible. \\n\\nTherefore, you would have to run back infinitely fast, which is not practically achievable.\"}\n",
      "\n",
      "------ answer ------\n",
      "Correct Answer: B\n",
      "Correct: True\n",
      "\n",
      "*** Choices ***\n",
      "A. 6mph\n",
      "B. Infinitely fast\n",
      "C. 9mph\n",
      "D. 12mph\n"
     ]
    }
   ],
   "source": [
    "llm_query = litellm_service()\n",
    "#llm_query = custom_llm_service()\n",
    "\n",
    "messages = [{ \"content\": f'{prompt}',\"role\": \"user\"}]\n",
    "\n",
    "models = [\"gpt-4-turbo-preview\", \"meta.llama3-70b-instruct-v1:0\", \"command-r\", \"mistral/mistral-large-latest\", \"mistral/open-mixtral-8x22b\", \"claude-3-opus-20240229\", \"vertex_ai/gemini-1.5-pro\", \"vertex_ai/gemini-1.0-pro\"]\n",
    "hyperparameters = {\n",
    "    \"temperature\": 0, \n",
    "    \"max_tokens\": 2048,\n",
    "    \"num_retries\": 2,\n",
    "}\n",
    "\n",
    "response = llm_query.completion(model=\"vertex_ai/gemini-1.5-pro\", messages=messages, **hyperparameters)\n",
    "\n",
    "answer = message_parse(response)\n",
    "print(answer)\n",
    "\n",
    "print('------ json output -------')\n",
    "\n",
    "valid_json = extract_valid_json(answer)\n",
    "print(valid_json)\n",
    "if valid_json:\n",
    "    print('\\n------ answer ------')\n",
    "    print(f\"Correct Answer: {correct_letter}\")\n",
    "    print(f\"Correct: {valid_json['ANSWER'] == correct_letter}\")\n",
    "    print('\\n*** Choices ***')\n",
    "    print(answers)"
   ]
  }
 ],
 "metadata": {
  "kernelspec": {
   "display_name": "base",
   "language": "python",
   "name": "python3"
  },
  "language_info": {
   "codemirror_mode": {
    "name": "ipython",
    "version": 3
   },
   "file_extension": ".py",
   "mimetype": "text/x-python",
   "name": "python",
   "nbconvert_exporter": "python",
   "pygments_lexer": "ipython3",
   "version": "3.11.7"
  }
 },
 "nbformat": 4,
 "nbformat_minor": 2
}
